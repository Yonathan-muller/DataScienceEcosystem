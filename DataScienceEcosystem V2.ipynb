{
 "cells": [
  {
   "cell_type": "markdown",
   "id": "d9ca3ce4-8678-4d9c-9b90-2ea1f28df7fc",
   "metadata": {},
   "source": [
    "#Data Science Tools and Ecosystem"
   ]
  },
  {
   "cell_type": "markdown",
   "id": "c8684204-1585-4d5a-8f47-60ab1bd85bd9",
   "metadata": {},
   "source": [
    "In this notebook, Data Science Tools and Ecosystem are summarized.\n",
    "En este notebook se hará mención a los principales lenguajes de programación revisados en el curso"
   ]
  },
  {
   "cell_type": "markdown",
   "id": "229fa2a3-a1fd-48ef-9382-a0c5b1f482db",
   "metadata": {},
   "source": [
    "## Data Science Languages\n",
    "\n",
    "- Python\n",
    "- R\n",
    "- SQL\n",
    "- Julia\n",
    "- Scala\n",
    "- Java\n",
    "- MATLAB\n",
    "- SAS\n",
    "- JavaScript\n"
   ]
  },
  {
   "cell_type": "markdown",
   "id": "1133f400-8b83-4b58-a07a-43a32f9bb038",
   "metadata": {},
   "source": [
    "## Data Science Libraries\n",
    "\n",
    "- NumPy\n",
    "- Pandas\n",
    "- Matplotlib\n",
    "- Seaborn\n",
    "- Scikit-learn\n",
    "- TensorFlow\n",
    "- Keras\n",
    "- PyTorch\n",
    "- Statsmodels\n",
    "- SciPy\n"
   ]
  },
  {
   "cell_type": "markdown",
   "id": "33fca79f-1a54-405d-a50b-ef611dd5220c",
   "metadata": {},
   "source": [
    "# Data Science Tools\n",
    "\n",
    "| Tool           | Description                                      |\n",
    "|----------------|--------------------------------------------------|\n",
    "| Jupyter        | Interactive computing environment                |\n",
    "| RStudio        | Integrated development environment for R         |\n",
    "| Apache Spark   | Unified analytics engine for big data processing |\n",
    "| TensorFlow     | Open-source machine learning framework           |\n",
    "| RapidMiner     | Data science platform for analytics teams        |\n",
    "| KNIME          | Open-source data analytics platform              |\n",
    "| MATLAB         | Numerical computing environment                  |\n",
    "| SAS            | Statistical software suite                       |\n",
    "| Tableau        | Data visualization tool                          |\n",
    "| Power BI       | Business analytics service by Microsoft          |\n"
   ]
  },
  {
   "cell_type": "markdown",
   "id": "2e3ae9ca-a979-4047-bad8-e6337ffc2ba3",
   "metadata": {},
   "source": [
    "# Arithmetic Expression Examples\n",
    "\n",
    "### Below are a few examples of evaluating arithmetic expressions in Python\n",
    "\n",
    "1. **Addition**\n",
    "   ```python\n",
    "   # Adding two numbers\n",
    "   result = 5 + 3\n",
    "   print(result)  # Output: 8\n",
    "\n",
    "# Subtracting two numbers\n",
    "result = 10 - 4\n",
    "print(result)  # Output: 6\n",
    "\n",
    "# Multiplying two numbers\n",
    "result = 7 * 2\n",
    "print(result)  # Output: 14\n",
    "\n",
    "# Dividing two numbers\n",
    "result = 20 / 5\n",
    "print(result)  # Output: 4.0\n",
    "\n",
    "# Raising a number to the power of another number\n",
    "result = 2 ** 3\n",
    "print(result)  # Output: 8\n",
    "\n"
   ]
  },
  {
   "cell_type": "code",
   "execution_count": 21,
   "id": "be844c90-f25f-496b-9555-c2b54d4fc0a1",
   "metadata": {},
   "outputs": [
    {
     "data": {
      "text/plain": [
       "17"
      ]
     },
     "execution_count": 21,
     "metadata": {},
     "output_type": "execute_result"
    }
   ],
   "source": [
    "# This is a simple arithmetic expression to multiply then add integers\n",
    "result = (3 * 4) + 5\n",
    "result\n"
   ]
  },
  {
   "cell_type": "code",
   "execution_count": 14,
   "id": "012d4ecb-8055-4421-8d2f-05ee52f71569",
   "metadata": {},
   "outputs": [
    {
     "data": {
      "text/plain": [
       "3.3333333333333335"
      ]
     },
     "execution_count": 14,
     "metadata": {},
     "output_type": "execute_result"
    }
   ],
   "source": [
    "# This will convert 200 minutes to hours by dividing by 60\n",
    "minutes = 200\n",
    "hours = minutes / 60\n",
    "hours\n"
   ]
  },
  {
   "cell_type": "markdown",
   "id": "edd3c23a-96be-4952-8f14-6e6c92c641fa",
   "metadata": {},
   "source": [
    "**Objectives:**\n",
    "\n",
    "- List popular languages for Data Science\n",
    "- Introduce arithmetic expression examples\n",
    "- Convert minutes to hours using Python\n",
    "- List data science libraries\n",
    "- Create a table of Data Science tools\n"
   ]
  },
  {
   "cell_type": "markdown",
   "id": "347f1dc2-9941-4e62-ae5d-32ca6ea78754",
   "metadata": {},
   "source": [
    "## Author\n",
    "\n",
    "Yonathan Müller\n"
   ]
  },
  {
   "cell_type": "code",
   "execution_count": null,
   "id": "b8636f3d-dd7f-4b71-bfd2-fd9e067f9245",
   "metadata": {},
   "outputs": [],
   "source": []
  }
 ],
 "metadata": {
  "kernelspec": {
   "display_name": "Python 3 (ipykernel)",
   "language": "python",
   "name": "python3"
  },
  "language_info": {
   "codemirror_mode": {
    "name": "ipython",
    "version": 3
   },
   "file_extension": ".py",
   "mimetype": "text/x-python",
   "name": "python",
   "nbconvert_exporter": "python",
   "pygments_lexer": "ipython3",
   "version": "3.12.4"
  }
 },
 "nbformat": 4,
 "nbformat_minor": 5
}
